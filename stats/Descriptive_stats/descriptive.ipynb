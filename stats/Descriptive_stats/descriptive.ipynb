{
 "cells": [
  {
   "cell_type": "markdown",
   "metadata": {},
   "source": [
    "#### Types of DATA\n",
    "*                                     Types of data \n",
    "                                 __________|___________\n",
    "                                 |                    |\n",
    "                            Categorical              Numerical\n",
    "                                             __________|___________\n",
    "                                             |                    |\n",
    "                                        Discrete               Continuous\n",
    "\n",
    "* Categorical data represents groups or categories.\n",
    "* Examples:\n",
    "1. Car brands: Audi, BMW and Mercedes.\n",
    "2. Answers to yes/no questions: yes and no\n",
    "* Numerical\n",
    "data represents numbers It is divided into two\n",
    "groups discrete and continuous Discrete data can be\n",
    "usually counted in a finite matter, while continuous is\n",
    "infinite and impossible to count\n",
    "* Examples:\n",
    "Discrete\n",
    "children you want to have, SAT score\n",
    "Continuous\n",
    "weight, height"
   ]
  },
  {
   "cell_type": "markdown",
   "metadata": {},
   "source": [
    "#### Type of measurements\n",
    "### ![image.png](attachment:image.png) \n",
    "\n",
    "**Nominal Data**: This type of data is used for labeling variables without any quantitative value. Examples include gender, race, and religion.\n",
    "\n",
    "**Ordinal Data**: This type of data has a meaningful order but the differences between values are not known. Examples include rankings, levels of satisfaction, and education levels.\n",
    "\n",
    "**Interval Data**: This type of data has meaningful differences between values, but no true zero point. Examples include temperature in Celsius or Fahrenheit.\n",
    "\n",
    "**Ratio Data**: This type of data has all the properties of interval data, and also has a true zero point. Examples include height, weight, and age.\n"
   ]
  },
  {
   "cell_type": "markdown",
   "metadata": {},
   "source": [
    "#### ---Descriptive statistics---"
   ]
  },
  {
   "cell_type": "markdown",
   "metadata": {},
   "source": [
    "##### Descriptive statistics is defined as the category of statistics that are used to analyse and summarise a data sample’s characteristics through various quantitative techniques. To simplify it even more-  descriptive statistics helps to summarise the features of a sample data either quantitatively or visually. This tool presents precise and simple-to-understand summaries and observations of the sample using measures like **mean, median, variance as well as graphs and charts**. Apart from this, univariate descriptive statistics which is a subcategory of descriptive statistics is used to describe data containing only one variable while bivariate and multivariate statistics are used to describe data with multiple variables.\n",
    "![image.png](attachment:image.png)"
   ]
  },
  {
   "cell_type": "markdown",
   "metadata": {},
   "source": [
    "#### --Type of descriptive stats--\n",
    "  * Frequency Distribution\n",
    "  * Measures of Central Tendency\n",
    "  * Measures of Dispersion\n",
    "  "
   ]
  },
  {
   "cell_type": "markdown",
   "metadata": {},
   "source": [
    "#### Frequency Distribution"
   ]
  },
  {
   "cell_type": "markdown",
   "metadata": {
    "vscode": {
     "languageId": "plaintext"
    }
   },
   "source": [
    "* descriptive statistics that is used for qualitative as well as quantitative data and it is used to count the various outcomes in a data set or sample or to depict the frequency of these outcomes. Most of the time, frequency distribution is displayed with the help of tables or graphs.\n",
    "* The table and graphs are filled with entries that are then followed by the frequency or count of the values’ occurrences in an interval, range or particular group.\n",
    "* Frequency distribution makes use of common charts and graphs like bar **charts, histograms, pie charts and line charts** for presentation of data."
   ]
  },
  {
   "cell_type": "markdown",
   "metadata": {},
   "source": [
    "#### Measures of Central Tendency\n",
    "* Measures of central location are another name for measures of central tendency. Mean, median and mode are the measures of central tendency. Let us take a look at what these three denote.\n",
    "* Mean \n",
    "* Median\n",
    "* Mode\n",
    "\n",
    "![image.png](attachment:image.png)"
   ]
  },
  {
   "cell_type": "markdown",
   "metadata": {},
   "source": [
    "#### -->Mean\n",
    " * It is the sum of observations divided by the total number of observations. It is also defined as average which is the sum divided by count.\n",
    "\n",
    "    x̄ = Σxixi / n\n",
    "\n",
    "    sum of observation  / no of observations\n",
    " where, \n",
    "x = Observations\n",
    "n = number of terms"
   ]
  },
  {
   "cell_type": "code",
   "execution_count": 9,
   "metadata": {},
   "outputs": [
    {
     "name": "stdout",
     "output_type": "stream",
     "text": [
      "Mean =  7.333333333333333\n"
     ]
    }
   ],
   "source": [
    "import numpy as np\n",
    "\n",
    "# Sample Data\n",
    "arr = [5, 6, 11]\n",
    "\n",
    "# Mean\n",
    "mean = np.mean(arr)\n",
    "\n",
    "print(\"Mean = \", mean)\n"
   ]
  },
  {
   "cell_type": "markdown",
   "metadata": {},
   "source": [
    "#### --> Median\n",
    "* It is the middle value of the data set. It splits the data into two halves. If the number of elements in the data set is odd then the center element is the median and if it is even then the median would be the average of two central elements. "
   ]
  },
  {
   "cell_type": "code",
   "execution_count": 10,
   "metadata": {},
   "outputs": [
    {
     "name": "stdout",
     "output_type": "stream",
     "text": [
      "Median =  2.5\n"
     ]
    }
   ],
   "source": [
    "import numpy as np\n",
    "\n",
    "# sample Data\n",
    "arr = [1, 2, 3, 4]\n",
    "\n",
    "# Median\n",
    "median = np.median(arr)\n",
    "\n",
    "print(\"Median = \", median)\n"
   ]
  },
  {
   "cell_type": "markdown",
   "metadata": {},
   "source": [
    "#### --> Mode\n",
    "* This is defined as the most frequent score or value in a data set."
   ]
  },
  {
   "cell_type": "code",
   "execution_count": 11,
   "metadata": {},
   "outputs": [
    {
     "name": "stdout",
     "output_type": "stream",
     "text": [
      "Mode =  ModeResult(mode=np.int64(2), count=np.int64(2))\n"
     ]
    }
   ],
   "source": [
    "from scipy import stats\n",
    "\n",
    "# sample Data\n",
    "arr = [1, 2, 2, 3]\n",
    "\n",
    "# Mode\n",
    "mode = stats.mode(arr)\n",
    "print(\"Mode = \", mode)\n"
   ]
  },
  {
   "cell_type": "markdown",
   "metadata": {},
   "source": [
    "##### Measures of Dispersion\n",
    "* Range\n",
    "* Variance\n",
    "* Standard deviation\n",
    "#### --> Range\n",
    "* The range describes the difference between the largest and smallest data point in our data set. The bigger the range, the more the spread of data and vice versa.\n",
    "* Range = Largest data value – smallest data value  \n",
    "#### --> variance\n",
    "* ![image-2.png](attachment:image-2.png)\n",
    "* Variance is a statistical measurement of the spread between numbers in a data set\n",
    "* the variance is high the spread of data is high\n",
    "#### --> Standard deviation\n",
    "* A standard deviation (or σ) is a measure of how dispersed the data is in relation to the mean. Low, or small, standard deviation indicates data are clustered tightly around the mean, and high, or large, standard deviation indicates data are more spread out.\n",
    "* root of variance is called the SD\n",
    "* ![image.png](attachment:image.png)"
   ]
  },
  {
   "cell_type": "code",
   "execution_count": 12,
   "metadata": {},
   "outputs": [
    {
     "name": "stdout",
     "output_type": "stream",
     "text": [
      "Maximum = 5, Minimum = 1 and Range = 4\n"
     ]
    }
   ],
   "source": [
    "import numpy as np\n",
    "# Sample Data\n",
    "arr = [1, 2, 3, 4, 5]\n",
    "# Finding Max\n",
    "Maximum = max(arr)\n",
    "# Finding Min\n",
    "Minimum = min(arr)\n",
    "# Difference Of Max and Min\n",
    "Range = Maximum-Minimum\n",
    "print(\"Maximum = {}, Minimum = {} and Range = {}\".format(\n",
    "    Maximum, Minimum, Range))\n",
    "\n"
   ]
  },
  {
   "cell_type": "code",
   "execution_count": 13,
   "metadata": {},
   "outputs": [
    {
     "data": {
      "text/plain": [
       "np.float64(2.0)"
      ]
     },
     "execution_count": 13,
     "metadata": {},
     "output_type": "execute_result"
    }
   ],
   "source": [
    "#\n",
    "variance = np.var(arr) #Variance#\n",
    "variance"
   ]
  },
  {
   "cell_type": "code",
   "execution_count": 14,
   "metadata": {},
   "outputs": [
    {
     "data": {
      "text/plain": [
       "np.float64(1.4142135623730951)"
      ]
     },
     "execution_count": 14,
     "metadata": {},
     "output_type": "execute_result"
    }
   ],
   "source": [
    "sd=np.std(arr)\n",
    "sd"
   ]
  },
  {
   "cell_type": "markdown",
   "metadata": {},
   "source": [
    "#### percentile and quartiles (finding outlier removing)\n",
    "\n",
    "* #### percentile :-\n",
    "* percentile is a value below which certain percentage of observation  is lie \n",
    "\n",
    "* ex:- To find percent of specific element in the dataset\n",
    "    * dataset = [2,2,3,4,5,5,5,6,7,8,8,8,8,8,9,9,10,11,11,12]\n",
    "    * index_element = dataset.index(10)\n",
    "    * len_dataset = len(dataset)\n",
    "    * x= dataset.index(10)/len(dataset)*100\n",
    "    * y = dataset.index(11)/len(dataset)*100\n",
    "    * ans is 80% and ans for 11 is 85%\n",
    "\n",
    "* ex:- To find percent like 25% or 50% in the dataset\n",
    "    * dataset = [2,2,3,4,5,5,5,6,7,8,8,8,8,8,9,9,10,11,11,12]\n",
    "    * b = np.percentile(dataset,25)\n",
    "             print(b) # index position returns\n",
    "    *  a = 25/100*len(dataset)\n",
    "             print(a)\n",
    "* #### five number summary:-\n",
    "* ![image-2.png](attachment:image-2.png)\n",
    "    * min()\n",
    "    * first quartile --> Q1\n",
    "    * median\n",
    "    * third quartile --> Q3\n",
    "    * max()\n",
    "    * **ex:-** To remove outliers\n",
    "        data = [1,2,2,2,3,3,4,5,5,5,6,6,6,6,7,8,8,9,27]\n",
    "    * lower fence and higher fence\n",
    "      * lower fence = Q1-1.5(IQR)\n",
    "      * higer fence = Q3+1.5(IQR)\n",
    "    * interquartile(IQR) = Q3 - Q1\n",
    "    * ![image-3.png](attachment:image-3.png)\n",
    "    * **Below the lower fence and higher then higher fence are the outliers**\n",
    "\n",
    "\n",
    "      \n",
    "\n",
    "\n",
    "\n",
    "* ### ![image.png](attachment:image.png)"
   ]
  },
  {
   "cell_type": "code",
   "execution_count": 15,
   "metadata": {},
   "outputs": [
    {
     "data": {
      "text/plain": [
       "15.25"
      ]
     },
     "execution_count": 15,
     "metadata": {},
     "output_type": "execute_result"
    }
   ],
   "source": [
    "data = [1,2,2,2,3,3,4,5,5,5,6,6,6,6,7,8,8,9,27]\n",
    "lower_fence = 25/100*len(data)+1\n",
    "higher_fence = 75/100*len(data)+1\n",
    "lower_fence\n",
    "higher_fence"
   ]
  },
  {
   "cell_type": "code",
   "execution_count": 16,
   "metadata": {},
   "outputs": [
    {
     "name": "stdout",
     "output_type": "stream",
     "text": [
      "3.0\n",
      "6.5\n",
      "9.5\n"
     ]
    },
    {
     "name": "stderr",
     "output_type": "stream",
     "text": [
      "<>:9: SyntaxWarning: 'float' object is not callable; perhaps you missed a comma?\n",
      "<>:11: SyntaxWarning: 'float' object is not callable; perhaps you missed a comma?\n",
      "<>:9: SyntaxWarning: 'float' object is not callable; perhaps you missed a comma?\n",
      "<>:11: SyntaxWarning: 'float' object is not callable; perhaps you missed a comma?\n",
      "C:\\Users\\SRIKANTH ADIPIREDDY\\AppData\\Local\\Temp\\ipykernel_20288\\2214606286.py:9: SyntaxWarning: 'float' object is not callable; perhaps you missed a comma?\n",
      "  lower_fence = Q1-1.5(IQR)\n"
     ]
    },
    {
     "ename": "TypeError",
     "evalue": "'float' object is not callable",
     "output_type": "error",
     "traceback": [
      "\u001b[1;31m---------------------------------------------------------------------------\u001b[0m",
      "\u001b[1;31mTypeError\u001b[0m                                 Traceback (most recent call last)",
      "Cell \u001b[1;32mIn[16], line 9\u001b[0m\n\u001b[0;32m      6\u001b[0m IQR \u001b[38;5;241m=\u001b[39m higher_fence\u001b[38;5;241m-\u001b[39mlower_fence\n\u001b[0;32m      7\u001b[0m \u001b[38;5;28mprint\u001b[39m(IQR)\n\u001b[1;32m----> 9\u001b[0m lower_fence \u001b[38;5;241m=\u001b[39m Q1\u001b[38;5;241m-\u001b[39m\u001b[38;5;241;43m1.5\u001b[39;49m\u001b[43m(\u001b[49m\u001b[43mIQR\u001b[49m\u001b[43m)\u001b[49m\n\u001b[0;32m     10\u001b[0m \u001b[38;5;28mprint\u001b[39m(lower_fence)\n\u001b[0;32m     11\u001b[0m higher_fence \u001b[38;5;241m=\u001b[39m Q3\u001b[38;5;241m-\u001b[39m\u001b[38;5;241m1.5\u001b[39m(IQR)\n",
      "\u001b[1;31mTypeError\u001b[0m: 'float' object is not callable"
     ]
    }
   ],
   "source": [
    "Q1 = np.percentile(data,25)\n",
    "print(Q1)\n",
    "Q3= np.percentile(data,75)\n",
    "print(Q3)\n",
    "\n",
    "IQR = higher_fence-lower_fence\n",
    "print(IQR)\n",
    "\n",
    "lower_fence = Q1-1.5(IQR)\n",
    "print(lower_fence)\n",
    "higher_fence = Q3-1.5(IQR)\n",
    "print(higher_fence)"
   ]
  },
  {
   "cell_type": "code",
   "execution_count": 18,
   "metadata": {},
   "outputs": [
    {
     "name": "stdout",
     "output_type": "stream",
     "text": [
      "80.0\n"
     ]
    }
   ],
   "source": [
    "dataset = [2,2,3,4,5,5,5,6,7,8,8,8,8,8,9,9,10,11,11,12]\n",
    "x= dataset.index(10)/len(dataset)*100\n",
    "print(x)"
   ]
  },
  {
   "cell_type": "code",
   "execution_count": 11,
   "metadata": {},
   "outputs": [
    {
     "name": "stdout",
     "output_type": "stream",
     "text": [
      "85.0\n"
     ]
    }
   ],
   "source": [
    "# what is the percentile rank of 11\n",
    "y = dataset.index(11)/len(dataset)*100\n",
    "print(y)"
   ]
  },
  {
   "cell_type": "code",
   "execution_count": null,
   "metadata": {},
   "outputs": [
    {
     "name": "stdout",
     "output_type": "stream",
     "text": [
      "5.0\n",
      "5.0\n",
      "15.0\n"
     ]
    }
   ],
   "source": [
    "b = np.percentile(dataset,25)\n",
    "print(b)\n",
    "\n",
    "\n",
    "a = 25/100*len(dataset)\n",
    "print(a)\n",
    "\n",
    "c = 75/100*len(dataset)\n",
    "print(c)"
   ]
  },
  {
   "cell_type": "markdown",
   "metadata": {},
   "source": [
    "### Population and sampling\n",
    "\n",
    "* Population denoted with **N**\n",
    "* sampling denoted with **n**\n",
    "##### Sampling techniques\n",
    "* simple random sampling :- Randomely selecting the elements from population\n",
    "                         :- Every memeber of the population(**N**) has a equal chances of being selected for your sample(**n**)\n",
    "##### stratified sampling :-\n",
    "* stratified sampling :- where the population(**N**) is split into non-overlapping groups \n",
    "* **ex:-** survey on the gender grouping by males and females or age grouping (0-10) and (10-22) and (20-30)\n",
    "##### systematic sampling\n",
    "* systematic sampling :- \n",
    "* **ex:-** survey on the mall every 8th person or 5th that i have to ask for the that he had suffered with a covid or not\n",
    "##### convension sampling\n",
    "* convension sampling :-\n",
    "* **ex:-** survey on the data science only those are people particularly intrested in the particular topic"
   ]
  },
  {
   "cell_type": "markdown",
   "metadata": {},
   "source": []
  },
  {
   "cell_type": "code",
   "execution_count": null,
   "metadata": {},
   "outputs": [],
   "source": []
  }
 ],
 "metadata": {
  "kernelspec": {
   "display_name": "Python 3",
   "language": "python",
   "name": "python3"
  },
  "language_info": {
   "codemirror_mode": {
    "name": "ipython",
    "version": 3
   },
   "file_extension": ".py",
   "mimetype": "text/x-python",
   "name": "python",
   "nbconvert_exporter": "python",
   "pygments_lexer": "ipython3",
   "version": "3.11.0"
  }
 },
 "nbformat": 4,
 "nbformat_minor": 2
}
