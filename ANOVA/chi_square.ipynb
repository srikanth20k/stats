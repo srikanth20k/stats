{
 "cells": [
  {
   "cell_type": "markdown",
   "metadata": {},
   "source": [
    "#### chi_Square\n"
   ]
  },
  {
   "cell_type": "code",
   "execution_count": 1,
   "metadata": {},
   "outputs": [],
   "source": [
    "import pandas as pd\n",
    "import seaborn as Snapshot\n",
    "import matplotlib.pyplot as plt\n",
    "import numpy as np"
   ]
  },
  {
   "cell_type": "markdown",
   "metadata": {},
   "source": []
  },
  {
   "cell_type": "code",
   "execution_count": 2,
   "metadata": {},
   "outputs": [],
   "source": [
    "data = pd.read_csv(r'C:\\Users\\SRIKANTH ADIPIREDDY\\Desktop\\VS Code\\ANOVA\\chi1__2__lyst1729241145055.csv')"
   ]
  },
  {
   "cell_type": "code",
   "execution_count": 3,
   "metadata": {},
   "outputs": [
    {
     "data": {
      "application/vnd.microsoft.datawrangler.viewer.v0+json": {
       "columns": [
        {
         "name": "index",
         "rawType": "int64",
         "type": "integer"
        },
        {
         "name": "age intervals",
         "rawType": "object",
         "type": "string"
        },
        {
         "name": "Experience intervals",
         "rawType": "object",
         "type": "string"
        }
       ],
       "conversionMethod": "pd.DataFrame",
       "ref": "87eaccea-0292-4a46-a20b-99839bf56ee0",
       "rows": [
        [
         "0",
         "41 - 50",
         "6 - 10 Years"
        ],
        [
         "1",
         "41 - 50",
         "6 - 10 Years"
        ],
        [
         "2",
         "31 - 40",
         "6 - 10 Years"
        ],
        [
         "3",
         "31 - 40",
         "6 - 10 Years"
        ],
        [
         "4",
         "18 - 30",
         "6 - 10 Years"
        ],
        [
         "5",
         "31 - 40",
         "6 - 10 Years"
        ],
        [
         "6",
         "51 - 60",
         "11 - 20 Years"
        ],
        [
         "7",
         "18 - 30",
         "Upto 5 Years"
        ],
        [
         "8",
         "31 - 40",
         "6 - 10 Years"
        ],
        [
         "9",
         "31 - 40",
         "11 - 20 Years"
        ],
        [
         "10",
         "31 - 40",
         "6 - 10 Years"
        ],
        [
         "11",
         "18 - 30",
         "6 - 10 Years"
        ],
        [
         "12",
         "31 - 40",
         "Upto 5 Years"
        ],
        [
         "13",
         "31 - 40",
         "Upto 5 Years"
        ],
        [
         "14",
         "18 - 30",
         "6 - 10 Years"
        ],
        [
         "15",
         "18 - 30",
         "6 - 10 Years"
        ],
        [
         "16",
         "31 - 40",
         "6 - 10 Years"
        ],
        [
         "17",
         "18 - 30",
         "Upto 5 Years"
        ],
        [
         "18",
         "51 - 60",
         "21 - 40 Years"
        ],
        [
         "19",
         "31 - 40",
         "6 - 10 Years"
        ],
        [
         "20",
         "18 - 30",
         "Upto 5 Years"
        ],
        [
         "21",
         "31 - 40",
         "6 - 10 Years"
        ],
        [
         "22",
         "31 - 40",
         "11 - 20 Years"
        ],
        [
         "23",
         "18 - 30",
         "Upto 5 Years"
        ],
        [
         "24",
         "31 - 40",
         "6 - 10 Years"
        ],
        [
         "25",
         "51 - 60",
         "21 - 40 Years"
        ],
        [
         "26",
         "31 - 40",
         "6 - 10 Years"
        ],
        [
         "27",
         "41 - 50",
         "6 - 10 Years"
        ],
        [
         "28",
         "41 - 50",
         "21 - 40 Years"
        ],
        [
         "29",
         "41 - 50",
         "21 - 40 Years"
        ],
        [
         "30",
         "31 - 40",
         "6 - 10 Years"
        ],
        [
         "31",
         "41 - 50",
         "6 - 10 Years"
        ],
        [
         "32",
         "18 - 30",
         "6 - 10 Years"
        ],
        [
         "33",
         "31 - 40",
         "11 - 20 Years"
        ],
        [
         "34",
         "18 - 30",
         "6 - 10 Years"
        ],
        [
         "35",
         "41 - 50",
         "6 - 10 Years"
        ],
        [
         "36",
         "41 - 50",
         "Upto 5 Years"
        ],
        [
         "37",
         "31 - 40",
         "Upto 5 Years"
        ],
        [
         "38",
         "31 - 40",
         "6 - 10 Years"
        ],
        [
         "39",
         "31 - 40",
         "6 - 10 Years"
        ],
        [
         "40",
         "31 - 40",
         "Upto 5 Years"
        ],
        [
         "41",
         "18 - 30",
         "Upto 5 Years"
        ],
        [
         "42",
         "18 - 30",
         "Upto 5 Years"
        ],
        [
         "43",
         "18 - 30",
         "6 - 10 Years"
        ],
        [
         "44",
         "18 - 30",
         "11 - 20 Years"
        ],
        [
         "45",
         "41 - 50",
         "21 - 40 Years"
        ],
        [
         "46",
         "31 - 40",
         "6 - 10 Years"
        ],
        [
         "47",
         "31 - 40",
         "6 - 10 Years"
        ],
        [
         "48",
         "41 - 50",
         "11 - 20 Years"
        ],
        [
         "49",
         "31 - 40",
         "Upto 5 Years"
        ]
       ],
       "shape": {
        "columns": 2,
        "rows": 1470
       }
      },
      "text/html": [
       "<div>\n",
       "<style scoped>\n",
       "    .dataframe tbody tr th:only-of-type {\n",
       "        vertical-align: middle;\n",
       "    }\n",
       "\n",
       "    .dataframe tbody tr th {\n",
       "        vertical-align: top;\n",
       "    }\n",
       "\n",
       "    .dataframe thead th {\n",
       "        text-align: right;\n",
       "    }\n",
       "</style>\n",
       "<table border=\"1\" class=\"dataframe\">\n",
       "  <thead>\n",
       "    <tr style=\"text-align: right;\">\n",
       "      <th></th>\n",
       "      <th>age intervals</th>\n",
       "      <th>Experience intervals</th>\n",
       "    </tr>\n",
       "  </thead>\n",
       "  <tbody>\n",
       "    <tr>\n",
       "      <th>0</th>\n",
       "      <td>41 - 50</td>\n",
       "      <td>6 - 10 Years</td>\n",
       "    </tr>\n",
       "    <tr>\n",
       "      <th>1</th>\n",
       "      <td>41 - 50</td>\n",
       "      <td>6 - 10 Years</td>\n",
       "    </tr>\n",
       "    <tr>\n",
       "      <th>2</th>\n",
       "      <td>31 - 40</td>\n",
       "      <td>6 - 10 Years</td>\n",
       "    </tr>\n",
       "    <tr>\n",
       "      <th>3</th>\n",
       "      <td>31 - 40</td>\n",
       "      <td>6 - 10 Years</td>\n",
       "    </tr>\n",
       "    <tr>\n",
       "      <th>4</th>\n",
       "      <td>18 - 30</td>\n",
       "      <td>6 - 10 Years</td>\n",
       "    </tr>\n",
       "    <tr>\n",
       "      <th>...</th>\n",
       "      <td>...</td>\n",
       "      <td>...</td>\n",
       "    </tr>\n",
       "    <tr>\n",
       "      <th>1465</th>\n",
       "      <td>31 - 40</td>\n",
       "      <td>11 - 20 Years</td>\n",
       "    </tr>\n",
       "    <tr>\n",
       "      <th>1466</th>\n",
       "      <td>31 - 40</td>\n",
       "      <td>6 - 10 Years</td>\n",
       "    </tr>\n",
       "    <tr>\n",
       "      <th>1467</th>\n",
       "      <td>18 - 30</td>\n",
       "      <td>6 - 10 Years</td>\n",
       "    </tr>\n",
       "    <tr>\n",
       "      <th>1468</th>\n",
       "      <td>41 - 50</td>\n",
       "      <td>11 - 20 Years</td>\n",
       "    </tr>\n",
       "    <tr>\n",
       "      <th>1469</th>\n",
       "      <td>31 - 40</td>\n",
       "      <td>6 - 10 Years</td>\n",
       "    </tr>\n",
       "  </tbody>\n",
       "</table>\n",
       "<p>1470 rows × 2 columns</p>\n",
       "</div>"
      ],
      "text/plain": [
       "     age intervals Experience intervals\n",
       "0          41 - 50         6 - 10 Years\n",
       "1          41 - 50         6 - 10 Years\n",
       "2          31 - 40         6 - 10 Years\n",
       "3          31 - 40         6 - 10 Years\n",
       "4          18 - 30         6 - 10 Years\n",
       "...            ...                  ...\n",
       "1465       31 - 40        11 - 20 Years\n",
       "1466       31 - 40         6 - 10 Years\n",
       "1467       18 - 30         6 - 10 Years\n",
       "1468       41 - 50        11 - 20 Years\n",
       "1469       31 - 40         6 - 10 Years\n",
       "\n",
       "[1470 rows x 2 columns]"
      ]
     },
     "execution_count": 3,
     "metadata": {},
     "output_type": "execute_result"
    }
   ],
   "source": [
    "data"
   ]
  },
  {
   "cell_type": "code",
   "execution_count": 4,
   "metadata": {},
   "outputs": [
    {
     "data": {
      "text/plain": [
       "age intervals           object\n",
       "Experience intervals    object\n",
       "dtype: object"
      ]
     },
     "execution_count": 4,
     "metadata": {},
     "output_type": "execute_result"
    }
   ],
   "source": [
    "data.dtypes"
   ]
  },
  {
   "cell_type": "markdown",
   "metadata": {},
   "source": [
    "## creating expected table"
   ]
  },
  {
   "cell_type": "code",
   "execution_count": 5,
   "metadata": {},
   "outputs": [
    {
     "data": {
      "text/plain": [
       "age intervals\n",
       "31 - 40    619\n",
       "18 - 30    386\n",
       "41 - 50    322\n",
       "51 - 60    143\n",
       "Name: count, dtype: int64"
      ]
     },
     "execution_count": 5,
     "metadata": {},
     "output_type": "execute_result"
    }
   ],
   "source": [
    "data['age intervals'].value_counts()"
   ]
  },
  {
   "cell_type": "code",
   "execution_count": 6,
   "metadata": {},
   "outputs": [
    {
     "data": {
      "text/plain": [
       "Experience intervals\n",
       "6 - 10 Years     607\n",
       "11 - 20 Years    340\n",
       "Upto 5 Years     316\n",
       "21 - 40 Years    207\n",
       "Name: count, dtype: int64"
      ]
     },
     "execution_count": 6,
     "metadata": {},
     "output_type": "execute_result"
    }
   ],
   "source": [
    "data['Experience intervals'].value_counts()"
   ]
  },
  {
   "cell_type": "code",
   "execution_count": 8,
   "metadata": {},
   "outputs": [],
   "source": [
    "ct=pd.crosstab(data['age intervals'],data['Experience intervals'],margins=True)"
   ]
  },
  {
   "cell_type": "code",
   "execution_count": 9,
   "metadata": {},
   "outputs": [
    {
     "name": "stdout",
     "output_type": "stream",
     "text": [
      "Experience intervals  11 - 20 Years  21 - 40 Years  6 - 10 Years  \\\n",
      "age intervals                                                      \n",
      "18 - 30                          22              0           172   \n",
      "31 - 40                         190             20           308   \n",
      "41 - 50                          85            112           110   \n",
      "51 - 60                          43             75            17   \n",
      "All                             340            207           607   \n",
      "\n",
      "Experience intervals  Upto 5 Years   All  \n",
      "age intervals                             \n",
      "18 - 30                        192   386  \n",
      "31 - 40                        101   619  \n",
      "41 - 50                         15   322  \n",
      "51 - 60                          8   143  \n",
      "All                            316  1470  \n"
     ]
    }
   ],
   "source": [
    "print(ct)"
   ]
  },
  {
   "cell_type": "code",
   "execution_count": 15,
   "metadata": {},
   "outputs": [],
   "source": [
    "from scipy import stats\n",
    "chi2,p,dof,expected=stats.chi2_contingency(ct)"
   ]
  },
  {
   "cell_type": "code",
   "execution_count": 16,
   "metadata": {},
   "outputs": [
    {
     "data": {
      "text/plain": [
       "np.float64(679.971444973354)"
      ]
     },
     "execution_count": 16,
     "metadata": {},
     "output_type": "execute_result"
    }
   ],
   "source": [
    "chi2"
   ]
  },
  {
   "cell_type": "code",
   "execution_count": 17,
   "metadata": {},
   "outputs": [
    {
     "data": {
      "text/plain": [
       "np.float64(2.3598197667694664e-134)"
      ]
     },
     "execution_count": 17,
     "metadata": {},
     "output_type": "execute_result"
    }
   ],
   "source": [
    "p"
   ]
  },
  {
   "cell_type": "code",
   "execution_count": 18,
   "metadata": {},
   "outputs": [
    {
     "data": {
      "text/plain": [
       "16"
      ]
     },
     "execution_count": 18,
     "metadata": {},
     "output_type": "execute_result"
    }
   ],
   "source": [
    "dof"
   ]
  },
  {
   "cell_type": "code",
   "execution_count": 19,
   "metadata": {},
   "outputs": [
    {
     "data": {
      "text/plain": [
       "array([[  89.27891156,   54.35510204,  159.38911565,   82.97687075,\n",
       "         386.        ],\n",
       "       [ 143.17006803,   87.16530612,  255.60068027,  133.06394558,\n",
       "         619.        ],\n",
       "       [  74.47619048,   45.34285714,  132.96190476,   69.21904762,\n",
       "         322.        ],\n",
       "       [  33.07482993,   20.13673469,   59.04829932,   30.74013605,\n",
       "         143.        ],\n",
       "       [ 340.        ,  207.        ,  607.        ,  316.        ,\n",
       "        1470.        ]])"
      ]
     },
     "execution_count": 19,
     "metadata": {},
     "output_type": "execute_result"
    }
   ],
   "source": [
    "expected"
   ]
  },
  {
   "cell_type": "code",
   "execution_count": null,
   "metadata": {},
   "outputs": [],
   "source": [
    "chi1 = 26.296"
   ]
  },
  {
   "cell_type": "markdown",
   "metadata": {},
   "source": [
    "* ho -> age intervel have relationship with the experience intervel\n",
    "* h1 -> have no relationship with the experience"
   ]
  },
  {
   "cell_type": "markdown",
   "metadata": {},
   "source": [
    "* chi2 orginal  is greater then the chi1 calculated"
   ]
  },
  {
   "cell_type": "markdown",
   "metadata": {},
   "source": []
  }
 ],
 "metadata": {
  "kernelspec": {
   "display_name": "Python 3",
   "language": "python",
   "name": "python3"
  },
  "language_info": {
   "codemirror_mode": {
    "name": "ipython",
    "version": 3
   },
   "file_extension": ".py",
   "mimetype": "text/x-python",
   "name": "python",
   "nbconvert_exporter": "python",
   "pygments_lexer": "ipython3",
   "version": "3.11.0"
  }
 },
 "nbformat": 4,
 "nbformat_minor": 2
}
